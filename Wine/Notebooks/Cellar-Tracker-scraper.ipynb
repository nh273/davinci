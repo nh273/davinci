{
 "cells": [
  {
   "cell_type": "code",
   "execution_count": 12,
   "metadata": {},
   "outputs": [],
   "source": [
    "from bs4 import BeautifulSoup\n",
    "from selenium import webdriver\n",
    "import csv\n",
    "import requests\n",
    "from tqdm import tqdm_notebook as tqdm\n",
    "import re\n",
    "import time\n",
    "import numpy.random as nrand"
   ]
  },
  {
   "cell_type": "code",
   "execution_count": 2,
   "metadata": {},
   "outputs": [],
   "source": [
    "MAIN_URL = 'https://www.cellartracker.com/list.asp'\n",
    "HEADERS = {'User-Agent': 'Mozilla/5.0 (Macintosh; Intel Mac OS X 10_13_6) AppleWebKit/537.36 (KHTML, like Gecko) Chrome/69.0.3497.100 Safari/537.36'}"
   ]
  },
  {
   "cell_type": "code",
   "execution_count": 3,
   "metadata": {},
   "outputs": [],
   "source": [
    "DIR = '../data/cellar-tracker-scrape/'\n",
    "URL_FILE = DIR + 'wines_url.csv'\n",
    "WINE_DATA_FILE = DIR + 'cellar_tracker_wine_data.csv'\n",
    "TASTING_NOTES_FILE = DIR + 'cellar_tracker_reviews.csv'"
   ]
  },
  {
   "cell_type": "code",
   "execution_count": 4,
   "metadata": {},
   "outputs": [],
   "source": [
    "def scrape(driver, max_page):\n",
    "    '''Master function that handles the actual scraping'''\n",
    "    for page_number in range(1,max_page):\n",
    "        winelist_url = get_wine_list_url(page_number)\n",
    "        wines_urls = get_wines_url(driver, winelist_url)\n",
    "        display('wines_urls: '+str(wines_urls))\n",
    "        write_to_csv(wines_urls, URL_FILE)\n",
    "        for wine_url in wines_urls:\n",
    "            scrape_wine(wine_url)\n",
    "            scrape_reviews(wine_url)\n",
    "            time.sleep(2)\n",
    "\n",
    "def scrape_wine(wine_url):\n",
    "    '''Scraper for one single wine, getting basic infos'''\n",
    "    wine_soup = get_wine_soup(wine_url)\n",
    "    wine_infos = get_wine_infos(wine_soup)\n",
    "    write_to_csv(wine_infos,WINE_DATA_FILE)\n",
    "\n",
    "def scrape_reviews(wine_url):\n",
    "    '''Scraper for one single wine, getting reviews'''\n",
    "    wine_id, soup = get_tasting_notes(wine_url)\n",
    "    reviews = parse_tasting_notes(wine_id,soup)\n",
    "    write_to_csv(reviews,TASTING_NOTES_FILE)"
   ]
  },
  {
   "cell_type": "code",
   "execution_count": 5,
   "metadata": {},
   "outputs": [],
   "source": [
    "def get_wine_list_url(page_number):\n",
    "    '''Parse URL of page of list of wines, given page number'''\n",
    "    payload = {'Table': 'List',\n",
    "                'iUserOverride': 0,\n",
    "                'O': 'Quantity DESC',\n",
    "                'page':page_number}\n",
    "    r = requests.get(MAIN_URL, params=payload, headers=HEADERS)\n",
    "    if r.status_code == 200:\n",
    "        return r.url\n",
    "    else:\n",
    "        print(r.status_code)\n",
    "        print(r.text)\n",
    "        return ''\n",
    "\n",
    "def get_wines_url(driver, wine_list_url):\n",
    "    '''Get list of wines urls given an url of a page of \n",
    "    wine list'''\n",
    "    url_list = []\n",
    "    driver.get(wine_list_url)\n",
    "    wines = driver.find_elements_by_class_name('more')\n",
    "    for wine in wines:\n",
    "        url_list.append(wine.get_attribute('href'))\n",
    "    return url_list"
   ]
  },
  {
   "cell_type": "code",
   "execution_count": 11,
   "metadata": {
    "scrolled": false
   },
   "outputs": [],
   "source": [
    "def get_wine_soup(wine_url):\n",
    "    '''Given url for single wine, get content as BeautifulSoup'''\n",
    "    driver.get(wine_url)\n",
    "    source = driver.page_source\n",
    "    soup = BeautifulSoup(source)\n",
    "    display('wine_soup: '+soup.prettify())\n",
    "    return soup\n",
    "\n",
    "def strip_white_space(text):\n",
    "    \"\"\"Clean up \\n, \\xa0 and the likes\"\"\"\n",
    "    to_replace = ['\\n', '\\xa0', '\\t']\n",
    "    for unwanted in to_replace:\n",
    "        text = text.replace(unwanted,' ') # replace with space\n",
    "    return text\n",
    "\n",
    "def get_main_score(soup):\n",
    "    '''Get wine main score'''\n",
    "    scorebox = soup.find('div', class_='scorebox')\n",
    "    s = scorebox.text\n",
    "    s = s[s.find('CT')+3:]\n",
    "    s = s[:s.find('\\n')]\n",
    "    return s\n",
    "\n",
    "def find_href_by_keyword(soup, keyword):\n",
    "    return soup.find('a', href=re.compile(keyword)).text\n",
    "\n",
    "def get_wine_infos(soup):\n",
    "    '''Get basic wine infos from a BeautifulSoup parse'''\n",
    "    res = {}\n",
    "    res['title'] = soup.title.text\n",
    "    res['varietal'] = soup.h2.text\n",
    "    res['score'] = get_main_score(soup)\n",
    "    res['country'] = find_href_by_keyword(soup, 'Country')\n",
    "    res['region_1'] = find_href_by_keyword(soup, 'Region')\n",
    "    res['region_2'] = find_href_by_keyword(soup, 'SubRegion')\n",
    "    return [res]"
   ]
  },
  {
   "cell_type": "code",
   "execution_count": 7,
   "metadata": {},
   "outputs": [],
   "source": [
    "def get_tasting_notes(driver,wine_url):\n",
    "    '''Given wine url, get all available tasting notes'''\n",
    "    wine_id = wine_url[wine_url.rfind('iWine=')+6:]\n",
    "    review_url = 'https://www.cellartracker.com/notes.asp?iWine='+wine_id\n",
    "    driver.get(review_url)\n",
    "    source = driver.page_source\n",
    "    soup = BeautifulSoup(r.text)\n",
    "    display('wine_tasting_soup: '+soup.prettify())\n",
    "    return wine_id,soup\n",
    "\n",
    "def parse_tasting_notes(wine_id,soup):\n",
    "    '''Given BeautifulSoup of tasting notes,\n",
    "    Parse note & corresponding score'''\n",
    "    res = []\n",
    "    notes = soup.findAll('p', itemprop='reviewBody')\n",
    "    for note in notes:\n",
    "        review = note.text\n",
    "        score = note.parent.find('span', itemprop='ratingValue')\n",
    "        if score:\n",
    "            score = score.text\n",
    "        res.append({'wine':wine_id,'note':review, 'score':score})\n",
    "    return res"
   ]
  },
  {
   "cell_type": "code",
   "execution_count": 8,
   "metadata": {},
   "outputs": [],
   "source": [
    "def write_to_csv(data, file):\n",
    "    with open(file, 'a+') as f:\n",
    "        writer = csv.writer(f)\n",
    "        for row in data:\n",
    "            writer.writerow(row)"
   ]
  },
  {
   "cell_type": "code",
   "execution_count": 9,
   "metadata": {},
   "outputs": [],
   "source": [
    "driver = webdriver.Chrome('/usr/local/Caskroom/chromedriver/2.41/chromedriver')"
   ]
  },
  {
   "cell_type": "code",
   "execution_count": 14,
   "metadata": {},
   "outputs": [
    {
     "ename": "NameError",
     "evalue": "name 'wine_urls' is not defined",
     "output_type": "error",
     "traceback": [
      "\u001b[0;31m-----------------------------------------------------------\u001b[0m",
      "\u001b[0;31mNameError\u001b[0m                 Traceback (most recent call last)",
      "\u001b[0;32m<ipython-input-14-6346a17759b2>\u001b[0m in \u001b[0;36m<module>\u001b[0;34m()\u001b[0m\n\u001b[0;32m----> 1\u001b[0;31m \u001b[0mnrand\u001b[0m\u001b[0;34m.\u001b[0m\u001b[0mchoice\u001b[0m\u001b[0;34m(\u001b[0m\u001b[0mwine_urls\u001b[0m\u001b[0;34m,\u001b[0m \u001b[0mreplace\u001b[0m\u001b[0;34m=\u001b[0m\u001b[0;32mFalse\u001b[0m\u001b[0;34m)\u001b[0m\u001b[0;34m\u001b[0m\u001b[0m\n\u001b[0m",
      "\u001b[0;31mNameError\u001b[0m: name 'wine_urls' is not defined"
     ]
    }
   ],
   "source": [
    "nrand.choice(wine_urls, replace=False)"
   ]
  },
  {
   "cell_type": "code",
   "execution_count": null,
   "metadata": {},
   "outputs": [],
   "source": []
  }
 ],
 "metadata": {
  "kernelspec": {
   "display_name": "davinci-webscraper",
   "language": "python",
   "name": "davinci-webscraper"
  },
  "language_info": {
   "codemirror_mode": {
    "name": "ipython",
    "version": 3
   },
   "file_extension": ".py",
   "mimetype": "text/x-python",
   "name": "python",
   "nbconvert_exporter": "python",
   "pygments_lexer": "ipython3",
   "version": "3.6.4"
  }
 },
 "nbformat": 4,
 "nbformat_minor": 2
}
